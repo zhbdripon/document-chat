{
 "cells": [
  {
   "cell_type": "code",
   "execution_count": null,
   "id": "bd104c6c",
   "metadata": {},
   "outputs": [
    {
     "name": "stdout",
     "output_type": "stream",
     "text": [
      "[Document(metadata={'producer': 'Microsoft® Word 2016', 'creator': 'Microsoft® Word 2016', 'creationdate': '2017-10-08T22:16:43+06:00', 'title': 'SOUTHEAST UNIVERSITY', 'author': 'Monirul Hasan', 'moddate': '2017-10-08T22:16:43+06:00', 'source': 'CourseOutline.pdf', 'total_pages': 4, 'page': 0, 'page_label': '1'}, page_content='Fall 2017 CSE 3035-Information System Design &Software Engineering Course Outline \\nPage 1 \\n \\n \\n *Learn For Yourself * by: AKM Ahsanul Hoque  \\n \\nSOUTHEAST  UNIVERSITY  \\nDepartment of Computer Science & Engineering School of Science \\n& Engineering \\n \\n \\nProgram: \\n \\nCSE \\n \\nCourse Code \\n \\nCSE3035 \\n \\nSection \\n \\n3 \\n \\nCourse Title \\n \\nInformation System Design & \\nSoftware Engineering \\n \\nClass Room \\n \\nAR Tower –1201 \\n \\nCourse Group \\n \\n \\nFaculty Code \\n \\nAKMAH \\n \\nFaculty Name \\n \\nAKM Ahsanul Hoque \\n \\nDesignation Asst. Professor   \\nEmail & Phone \\n \\nahoque707@gmail.com \\n01713363703  \\n \\n \\nRoom # \\n \\n \\n \\nCounseling by appointment \\n \\nClass/ \\nCounseling \\nHours \\n \\nSunday \\xad Tuesday \\n10:00 AM to 11:30 AM  \\n \\nCourse Objectives \\n \\nThis is an interesting, challenging, advance, and higher level course in the area of Computer Science \\nand Computer Science & Engineering.  This course will give an idea to the graduating student about t he \\nway of develop or engineer, software or system.  In this particular course student has to use his/her all \\nearned knowledge and experiences, to make this course interesting and successful.  Software \\nengineering is mainly concerned with real life, long-term, large-scale programming projects. This course \\nintroduces the topic through class lectures, experiences, examples, real practices and will give you an \\nopportunity to learn, practice and participate in the analysis, design and management of any size \\nsoftware or IT project. \\n \\nIn this particular course we will see how actually a software organization work, what are their functions, \\nhow they manage their projects, how they estimate and many more interesting topics.  Basically for the \\nSoftware Engineer we take the help of different tools like CASE (Computer Aided Software Engineering), \\nor UML (Unified Modeling Language), but here mostly we do work by ourselves in pen & paper \\n \\nLearning Outcomes \\n \\n1. After completing the course successfully, a student can easily work in the software organization. \\n2. A student can properly develop any software by following the different models discussed in the \\ncourse. \\n3. A student can able to work in a team, can lead the software team.  \\n4. S/He can be fitted in any position of development of the software in the organization.  \\n5. Starting from the customer communication, planning, analysis to coding and testing can be \\nperfectly done by each individual.'), Document(metadata={'producer': 'Microsoft® Word 2016', 'creator': 'Microsoft® Word 2016', 'creationdate': '2017-10-08T22:16:43+06:00', 'title': 'SOUTHEAST UNIVERSITY', 'author': 'Monirul Hasan', 'moddate': '2017-10-08T22:16:43+06:00', 'source': 'CourseOutline.pdf', 'total_pages': 4, 'page': 1, 'page_label': '2'}, page_content='Fall 2017 CSE 3035- Information System Design & Software Engineering Course Outline \\nPage 2 \\n \\n \\n \\n*Learn For Yourself * by: AKM Ahsanul Hoque  \\nCourse Contents \\n \\n \\n \\n \\n \\n \\n \\n \\n \\n \\n \\n \\n \\nSuggested Readings \\n \\nTextbook:  \\n1. “Software Engineering” A Practitioner’s Approach 7th, by Roger. S Pressman. \\n \\nReferences: \\n2. Software Engineering, 7th or 8th Edition by Ian Sommerville \\n \\n3. “Object Oriented Software Engineering”  5th edition  by Stephen R Schach.  \\n \\n4. Internet for the related topics (CMMi, SWI, etc)  \\n \\n \\nReferences: Other text book or Internet materials.  \\n \\nSoftware \\n \\n■ UML \\n■ Microsoft Project/MS Excel/MS WORD \\n■ Drawing Software  \\n \\n \\n \\nTeaching Methodology \\n \\nWeekly two 1.5 hours lecture where the theoretical aspects of formulation of different methods \\nwill be discussed. Sh a rin g re a l life e xp e rien ce in  th e  fie ld of IT an d \\nd e ve lo pm en t. We will also have hands on experience of re a l lif e  so f t wa re  \\np ro je c t. The assignments will require students to work on d i f f e r e n t  c a s e  s tu d y, \\na n d  a n a l ys i s.   \\n \\nSoftware & Software Domains    Engineering       SW Characteristics  \\n \\nDifferent Principals       Process Models     CMMI    Risk Management     \\n \\nProject Management    Planning          Testing Techniques &   Strategies \\n  \\n  Reengineering SQA Product Metrics  Estimation Software Architecture and Design'), Document(metadata={'producer': 'Microsoft® Word 2016', 'creator': 'Microsoft® Word 2016', 'creationdate': '2017-10-08T22:16:43+06:00', 'title': 'SOUTHEAST UNIVERSITY', 'author': 'Monirul Hasan', 'moddate': '2017-10-08T22:16:43+06:00', 'source': 'CourseOutline.pdf', 'total_pages': 4, 'page': 2, 'page_label': '3'}, page_content=\"Fall 2017 CSE 3035- Information System Design & Software Engineering Course Outline \\nPage 3 \\n \\n \\n \\n*Learn For Yourself * by: AKM Ahsanul Hoque  \\nTentative Course Plan \\n \\n \\nLecture # \\n \\nTopics will be covered Suggested reading \\n(textbook  chapters) \\n1 Introduction Software & Software Engineering  Chapter 1  \\n \\n2 \\n3 \\n2-3 Software Engineering  \\n4-7 Part 1: (The Software Process) Process Models \\n8-9  Principles that guide practices, Understanding Req. 4,5 \\n10-12 Part 2 (Modeling)  \\n13-15  Requirements, Design Concepts 6,7,8 \\n MIDTERM   \\n16-17 Design Concepts continue  9,11,12 \\n18-19 Part 3 (Quality Concepts) Quality Concepts, SQA, Testing 14,16,17,18 \\n20-21 Product Metrics 23 \\n   \\n22-23 Part 4 (Managing Software Projects) 24-28 \\n24-25 Project Estimation, Project Scheduling, Risk Mgt 26,27,28 \\n26-27 Recap   \\n28 Recap  \\n Final  \\n \\n \\n \\nGrading Scheme and Marks Distribution \\n \\nCategory  Marks% Description  \\nAttendance  5 No marks will be deducted for one absence. But for every \\nsubsequent absences 0.5 marks will be deducted. If a student \\ndoesn't attend at least 75% classes, he/she will not be allowed to \\nseat for final exam. NO MAKEUP EXAM is Applicable. This rule will be strictly \\napplied. \\nAssignment, \\nProject & \\nPresentation \\n25 There will be 5 assignments – (1 on Process Model), (1on Communication) (1 on \\nRequirements), (1 on Risk Management), and (1 on Estimation). No Handwritten \\nassignment will be accepted.  \\nAll of them will be counted. \\nMidterm  30 For mid  and final >> 5 points may be allotted for MCQ, 10/15 for \\nshort questions and 15/20 for broad questions. Exams will cover \\neverything from the class – lecture notes, textbooks, articles. Final 40 \\n  \\nTotal 100\"), Document(metadata={'producer': 'Microsoft® Word 2016', 'creator': 'Microsoft® Word 2016', 'creationdate': '2017-10-08T22:16:43+06:00', 'title': 'SOUTHEAST UNIVERSITY', 'author': 'Monirul Hasan', 'moddate': '2017-10-08T22:16:43+06:00', 'source': 'CourseOutline.pdf', 'total_pages': 4, 'page': 3, 'page_label': '4'}, page_content=\"Fall 2017 CSE 3035- Information System Design & Software Engineering Course Outline \\nPage 4 \\n \\n \\n \\n*Learn For Yourself * by: AKM Ahsanul Hoque  \\n \\n \\n \\nGrading Policy \\nAs par UGC \\nRange of Marks Grade \\nPoints \\nLetter Grade \\n80-100 4.00 A+ \\n75-79 3.75 A \\n70-74 3.50 A- \\n65-69 3.25 B+ \\n60-64 3.00 B \\n55-59 2.75 B- \\n50-54 2.50 C+ \\n45-49 2.25 C \\n40-44 2.00 D \\nLess than 40 0.00 F \\n \\nSpecial Notes \\n\\uf0b7 The course group is an integral part of the course. All students are required to join the \\ngroup. Notices about classes, make ups, assignments will be posted on the group. Exams or \\nassignments scores will be posted there, as well. \\n\\uf0b7 Academic honesty is of prime concern. Any sign of cheating in any exam/assignment \\nwill be very harshly dealt with. All students involved in such acts will receive zero score \\nfor that particular assessment. Depending on the severity of the act, further penalizing \\nactions may be taken. \\n\\uf0b7 Students can come in or leave anytime during the class. They do not need to take \\npermission from the instructor before coming or leaving. However, once the attendance \\ncall is done no edits will be done to that day's records. The idea is to promote mature \\nand responsible behavior, students aren't supposed to interrupt the flow of the class by \\nasking permission to leave. \\n\\uf0b7 We are conducting the classes in computer lab to facilitate a hands on experience of the \\nsoftware tools. If students misuse this opportunity by wasting time browsing facebook \\nor any other site that's not related to the course, they will lose 5 marks every time they \\nare spotted.\")]\n"
     ]
    }
   ],
   "source": [
    "from langchain.document_loaders import PyPDFLoader\n",
    "\n",
    "loader = PyPDFLoader(\"CourseOutline.pdf\")\n",
    "pages = loader.load()\n",
    "print(pages)  # Print the content of the first page\n",
    "\n",
    "async for page in loader.alazy_load():\n",
    "    print(page)"
   ]
  },
  {
   "cell_type": "code",
   "execution_count": null,
   "id": "910bedb8",
   "metadata": {},
   "outputs": [],
   "source": []
  }
 ],
 "metadata": {
  "kernelspec": {
   "display_name": "document-chat-OKUWCCGi",
   "language": "python",
   "name": "python3"
  },
  "language_info": {
   "codemirror_mode": {
    "name": "ipython",
    "version": 3
   },
   "file_extension": ".py",
   "mimetype": "text/x-python",
   "name": "python",
   "nbconvert_exporter": "python",
   "pygments_lexer": "ipython3",
   "version": "3.12.3"
  }
 },
 "nbformat": 4,
 "nbformat_minor": 5
}
