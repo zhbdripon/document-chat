{
 "cells": [
  {
   "cell_type": "code",
   "execution_count": 7,
   "id": "838ab78b",
   "metadata": {},
   "outputs": [],
   "source": [
    "from dotenv import load_dotenv\n",
    "from pathlib import Path\n",
    "\n",
    "load_dotenv(override=True)\n",
    "base_dir = Path().resolve().parent"
   ]
  },
  {
   "cell_type": "code",
   "execution_count": 8,
   "id": "63c6ba14",
   "metadata": {},
   "outputs": [],
   "source": [
    "from langchain_openai import ChatOpenAI\n",
    "\n",
    "llm_model = \"gpt-3.5-turbo\"\n",
    "llm = ChatOpenAI(temperature=0, model=llm_model)"
   ]
  },
  {
   "cell_type": "code",
   "execution_count": 9,
   "id": "52e6384e",
   "metadata": {},
   "outputs": [],
   "source": [
    "from langchain.text_splitter import (\n",
    "    RecursiveCharacterTextSplitter,\n",
    "    CharacterTextSplitter,\n",
    ")\n",
    "\n",
    "chunk_size = 1000\n",
    "chunk_overlap = 200\n",
    "\n",
    "r_splitter = RecursiveCharacterTextSplitter(\n",
    "    chunk_size=chunk_size,\n",
    "    chunk_overlap=chunk_overlap,\n",
    "    separators=[\"\\n\\n\", \"\\n\", \" \", \"\"],\n",
    ")\n",
    "c_splitter = CharacterTextSplitter(\n",
    "    chunk_size=chunk_size, chunk_overlap=chunk_overlap, separator=\"\\n\"\n",
    ")"
   ]
  },
  {
   "cell_type": "code",
   "execution_count": 10,
   "id": "8a4a525c",
   "metadata": {},
   "outputs": [
    {
     "data": {
      "text/plain": [
       "4"
      ]
     },
     "execution_count": 10,
     "metadata": {},
     "output_type": "execute_result"
    }
   ],
   "source": [
    "from langchain_community.document_loaders import PyPDFLoader\n",
    "\n",
    "loader = PyPDFLoader(f\"{base_dir}/data/CourseOutline.pdf\")\n",
    "pages = loader.load()\n",
    "len(pages)"
   ]
  },
  {
   "cell_type": "code",
   "execution_count": 11,
   "id": "6343e44e",
   "metadata": {},
   "outputs": [
    {
     "data": {
      "text/plain": [
       "9"
      ]
     },
     "execution_count": 11,
     "metadata": {},
     "output_type": "execute_result"
    }
   ],
   "source": [
    "spitted_docs = r_splitter.split_documents(pages)\n",
    "len(spitted_docs)"
   ]
  },
  {
   "cell_type": "code",
   "execution_count": 12,
   "id": "031de503",
   "metadata": {},
   "outputs": [
    {
     "data": {
      "text/plain": [
       "'/home/zhbdripon/Documents/document-chat/persist_vectorstore'"
      ]
     },
     "execution_count": 12,
     "metadata": {},
     "output_type": "execute_result"
    }
   ],
   "source": [
    "persist_directory_name = \"persist_vectorstore\"\n",
    "persist_directory = Path.joinpath(base_dir, persist_directory_name)\n",
    "persist_directory_str = persist_directory.as_posix()\n",
    "persist_directory_str"
   ]
  },
  {
   "cell_type": "code",
   "execution_count": null,
   "id": "0241ad20",
   "metadata": {},
   "outputs": [],
   "source": [
    "!rm -rf ../peripersist_vectorstore"
   ]
  },
  {
   "cell_type": "code",
   "execution_count": 14,
   "id": "5a41f879",
   "metadata": {},
   "outputs": [],
   "source": [
    "from langchain.vectorstores import Chroma\n",
    "from langchain_openai import OpenAIEmbeddings\n",
    "\n",
    "embedding = OpenAIEmbeddings(model=\"text-embedding-3-small\")\n",
    "\n",
    "vectordb = Chroma.from_documents(\n",
    "    documents=spitted_docs, embedding=embedding, persist_directory=persist_directory_str\n",
    ")"
   ]
  },
  {
   "cell_type": "code",
   "execution_count": null,
   "id": "7832904e",
   "metadata": {},
   "outputs": [],
   "source": [
    "from langchain.vectorstores import Chroma\n",
    "from langchain_openai import OpenAIEmbeddings\n",
    "\n",
    "embedding = OpenAIEmbeddings(model=\"text-embedding-3-small\")\n",
    "\n",
    "# Reusing the persistant\n",
    "vectordb = Chroma(embedding_function=embedding, persist_directory=persist_directory_str)"
   ]
  },
  {
   "cell_type": "code",
   "execution_count": null,
   "id": "d55aeda4",
   "metadata": {},
   "outputs": [],
   "source": [
    "retriever = vectordb.as_retriever(search_type=\"similarity\", search_kwargs={\"k\": 4})"
   ]
  },
  {
   "cell_type": "code",
   "execution_count": 15,
   "id": "c6736d0e",
   "metadata": {},
   "outputs": [],
   "source": [
    "retriever = vectordb.as_retriever(\n",
    "    search_type=\"mmr\", search_kwargs={\"k\": 4, \"fetch_k\": 20, \"lambda_mult\": 0.5}\n",
    ")"
   ]
  },
  {
   "cell_type": "code",
   "execution_count": 27,
   "id": "8d5dfe79",
   "metadata": {},
   "outputs": [
    {
     "name": "stdout",
     "output_type": "stream",
     "text": [
      "{'1': InMemoryHistory(messages=[AIMessage(content='hello', additional_kwargs={}, response_metadata={})])}\n"
     ]
    }
   ],
   "source": [
    "from langchain_core.chat_history import BaseChatMessageHistory\n",
    "from langchain_core.messages import BaseMessage, AIMessage\n",
    "from pydantic import BaseModel, Field\n",
    "\n",
    "\n",
    "class InMemoryHistory(BaseChatMessageHistory, BaseModel):\n",
    "    \"\"\"In memory implementation of chat message history.\"\"\"\n",
    "\n",
    "    messages: list[BaseMessage] = Field(default_factory=list)\n",
    "\n",
    "    def add_messages(self, messages: list[BaseMessage]) -> None:\n",
    "        \"\"\"Add a list of messages to the store\"\"\"\n",
    "        self.messages.extend(messages)\n",
    "\n",
    "    def clear(self) -> None:\n",
    "        self.messages = []\n",
    "\n",
    "\n",
    "# Here we use a global variable to store the chat message history.\n",
    "# This will make it easier to inspect it to see the underlying results.\n",
    "store = {}\n",
    "\n",
    "\n",
    "def get_by_session_id(session_id: str) -> BaseChatMessageHistory:\n",
    "    if session_id not in store:\n",
    "        store[session_id] = InMemoryHistory()\n",
    "    return store[session_id]\n",
    "\n",
    "\n",
    "history = get_by_session_id(\"1\")\n",
    "history.add_message(AIMessage(content=\"hello\"))\n",
    "print(store)  # noqa: T201"
   ]
  },
  {
   "cell_type": "code",
   "execution_count": 17,
   "id": "8962cb8d",
   "metadata": {},
   "outputs": [],
   "source": [
    "from langchain_core.prompts import PromptTemplate\n",
    "\n",
    "rag_prompt = PromptTemplate.from_template(\n",
    "    \"\"\"You are a helpful assistant answering questions about the following context.\n",
    "If the question is a follow-up, use the chat history to interpret it.\n",
    "\n",
    "Chat History:\n",
    "{history}\n",
    "\n",
    "Context:\n",
    "{context}\n",
    "\n",
    "Question: {question}\n",
    "Answer:\"\"\"\n",
    ")"
   ]
  },
  {
   "cell_type": "code",
   "execution_count": 18,
   "id": "9ddc1825",
   "metadata": {},
   "outputs": [],
   "source": [
    "refine_prompt = PromptTemplate.from_template(\n",
    "    \"\"\"You are a helpful assistant that rephrases follow-up questions into standalone questions.\n",
    "\n",
    "Chat History:\n",
    "{history}\n",
    "\n",
    "Follow-up Question:\n",
    "{question}\n",
    "\n",
    "Rewritten standalone question:\"\"\"\n",
    ")"
   ]
  },
  {
   "cell_type": "code",
   "execution_count": 19,
   "id": "72360dbb",
   "metadata": {},
   "outputs": [],
   "source": [
    "from langchain_core.runnables import RunnableLambda\n",
    "from langchain_core.output_parsers import StrOutputParser\n",
    "\n",
    "\n",
    "rewrite_question = refine_prompt | llm | StrOutputParser()\n",
    "\n",
    "question_refinement_chain = RunnableLambda(\n",
    "    lambda x: {\n",
    "        \"rewritten\": rewrite_question.invoke(\n",
    "            {\"question\": x[\"question\"], \"history\": x[\"history\"]}\n",
    "        ),\n",
    "        \"history\": x[\"history\"],\n",
    "    }\n",
    ") | RunnableLambda(\n",
    "    lambda x: {\"question\": x[\"rewritten\"].strip(), \"history\": x[\"history\"]}\n",
    ")"
   ]
  },
  {
   "cell_type": "code",
   "execution_count": 20,
   "id": "33033802",
   "metadata": {},
   "outputs": [],
   "source": [
    "from langchain_core.output_parsers import StrOutputParser\n",
    "from langchain_core.runnables import RunnableLambda\n",
    "\n",
    "\n",
    "def format_docs(docs):\n",
    "    return \"\\n\\n\".join(doc.page_content for doc in docs)\n",
    "\n",
    "\n",
    "rag_chain = (\n",
    "    {\n",
    "        \"context\": RunnableLambda(lambda x: x[\"question\"]) | retriever | format_docs,\n",
    "        \"question\": RunnableLambda(lambda x: x[\"question\"]),\n",
    "        \"history\": RunnableLambda(lambda x: x[\"history\"]),\n",
    "    }\n",
    "    | rag_prompt\n",
    "    | llm\n",
    "    | StrOutputParser()\n",
    ")"
   ]
  },
  {
   "cell_type": "code",
   "execution_count": 21,
   "id": "b5569ef8",
   "metadata": {},
   "outputs": [],
   "source": [
    "full_chain = question_refinement_chain | rag_chain"
   ]
  },
  {
   "cell_type": "code",
   "execution_count": null,
   "id": "66ffa3cc",
   "metadata": {},
   "outputs": [],
   "source": [
    "from langchain_core.runnables.history import RunnableWithMessageHistory\n",
    "\n",
    "chain_with_history = RunnableWithMessageHistory(\n",
    "    full_chain,\n",
    "    get_by_session_id,\n",
    "    input_messages_key=\"question\",\n",
    "    history_messages_key=\"history\",\n",
    ")"
   ]
  }
 ],
 "metadata": {
  "kernelspec": {
   "display_name": "document-chat-OKUWCCGi",
   "language": "python",
   "name": "python3"
  },
  "language_info": {
   "codemirror_mode": {
    "name": "ipython",
    "version": 3
   },
   "file_extension": ".py",
   "mimetype": "text/x-python",
   "name": "python",
   "nbconvert_exporter": "python",
   "pygments_lexer": "ipython3",
   "version": "3.12.3"
  }
 },
 "nbformat": 4,
 "nbformat_minor": 5
}
