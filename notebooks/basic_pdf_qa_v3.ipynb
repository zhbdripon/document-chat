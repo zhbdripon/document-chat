{
 "cells": [
  {
   "cell_type": "code",
   "execution_count": null,
   "id": "838ab78b",
   "metadata": {},
   "outputs": [],
   "source": [
    "from dotenv import load_dotenv\n",
    "from pathlib import Path\n",
    "\n",
    "load_dotenv(override=True)\n",
    "base_dir = Path().resolve().parent"
   ]
  },
  {
   "cell_type": "code",
   "execution_count": 11,
   "id": "63c6ba14",
   "metadata": {},
   "outputs": [],
   "source": [
    "from langchain_openai import ChatOpenAI\n",
    "\n",
    "llm_model = \"gpt-3.5-turbo\"\n",
    "llm = ChatOpenAI(temperature=0, model=llm_model)"
   ]
  },
  {
   "cell_type": "code",
   "execution_count": 36,
   "id": "52e6384e",
   "metadata": {},
   "outputs": [],
   "source": [
    "from langchain.text_splitter import (\n",
    "    RecursiveCharacterTextSplitter,\n",
    "    CharacterTextSplitter,\n",
    ")\n",
    "\n",
    "chunk_size = 600\n",
    "chunk_overlap = 150\n",
    "\n",
    "r_splitter = RecursiveCharacterTextSplitter(\n",
    "    chunk_size=chunk_size,\n",
    "    chunk_overlap=chunk_overlap,\n",
    "    separators=[\"\\n\", \".\", \" \", \"\"],\n",
    ")\n",
    "c_splitter = CharacterTextSplitter(\n",
    "    chunk_size=chunk_size, chunk_overlap=chunk_overlap, separator=\"\\n\"\n",
    ")"
   ]
  },
  {
   "cell_type": "code",
   "execution_count": 37,
   "id": "8a4a525c",
   "metadata": {},
   "outputs": [
    {
     "data": {
      "text/plain": [
       "4"
      ]
     },
     "execution_count": 37,
     "metadata": {},
     "output_type": "execute_result"
    }
   ],
   "source": [
    "from langchain_community.document_loaders import PyPDFLoader\n",
    "\n",
    "loader = PyPDFLoader(f\"{base_dir}/data/CourseOutline.pdf\")\n",
    "pages = loader.load()\n",
    "len(pages)"
   ]
  },
  {
   "cell_type": "code",
   "execution_count": 38,
   "id": "6343e44e",
   "metadata": {},
   "outputs": [
    {
     "data": {
      "text/plain": [
       "17"
      ]
     },
     "execution_count": 38,
     "metadata": {},
     "output_type": "execute_result"
    }
   ],
   "source": [
    "spitted_docs = r_splitter.split_documents(pages)\n",
    "len(spitted_docs)"
   ]
  },
  {
   "cell_type": "code",
   "execution_count": 39,
   "id": "031de503",
   "metadata": {},
   "outputs": [
    {
     "data": {
      "text/plain": [
       "'/home/zhbdripon/Documents/document-chat/persist_vectorstore'"
      ]
     },
     "execution_count": 39,
     "metadata": {},
     "output_type": "execute_result"
    }
   ],
   "source": [
    "persist_directory_name = \"persist_vectorstore\"\n",
    "persist_directory = Path.joinpath(base_dir, persist_directory_name)\n",
    "persist_directory_str = persist_directory.as_posix()\n",
    "persist_directory_str"
   ]
  },
  {
   "cell_type": "code",
   "execution_count": 40,
   "id": "0241ad20",
   "metadata": {},
   "outputs": [],
   "source": [
    "!rm -rf ../peripersist_vectorstore"
   ]
  },
  {
   "cell_type": "code",
   "execution_count": 41,
   "id": "5a41f879",
   "metadata": {},
   "outputs": [],
   "source": [
    "from langchain.vectorstores import Chroma\n",
    "from langchain_openai import OpenAIEmbeddings\n",
    "\n",
    "embedding = OpenAIEmbeddings()\n",
    "\n",
    "vectordb = Chroma.from_documents(\n",
    "    documents=spitted_docs, embedding=embedding, persist_directory=persist_directory_str\n",
    ")"
   ]
  },
  {
   "cell_type": "code",
   "execution_count": 236,
   "id": "7832904e",
   "metadata": {},
   "outputs": [],
   "source": [
    "from langchain.vectorstores import Chroma\n",
    "from langchain_openai import OpenAIEmbeddings\n",
    "\n",
    "embedding = OpenAIEmbeddings()\n",
    "\n",
    "# Reusing the persistant\n",
    "vectordb = Chroma(embedding_function=embedding, persist_directory=persist_directory_str)"
   ]
  },
  {
   "cell_type": "code",
   "execution_count": 18,
   "id": "3b04728e",
   "metadata": {},
   "outputs": [],
   "source": [
    "question = \"How many topics in the course?\""
   ]
  },
  {
   "cell_type": "code",
   "execution_count": 19,
   "id": "b0b737cb",
   "metadata": {},
   "outputs": [
    {
     "data": {
      "text/plain": [
       "[Document(metadata={'title': 'SOUTHEAST UNIVERSITY', 'source': '/home/zhbdripon/Documents/document-chat/data/CourseOutline.pdf', 'creator': 'Microsoft® Word 2016', 'total_pages': 4, 'author': 'Monirul Hasan', 'page_label': '3', 'creationdate': '2017-10-08T22:16:43+06:00', 'page': 2, 'moddate': '2017-10-08T22:16:43+06:00', 'producer': 'Microsoft® Word 2016'}, page_content='13-15  Requirements, Design Concepts 6,7,8 \\n MIDTERM   \\n16-17 Design Concepts continue  9,11,12 \\n18-19 Part 3 (Quality Concepts) Quality Concepts, SQA, Testing 14,16,17,18 \\n20-21 Product Metrics 23 \\n   \\n22-23 Part 4 (Managing Software Projects) 24-28 \\n24-25 Project Estimation, Project Scheduling, Risk Mgt 26,27,28 \\n26-27 Recap   \\n28 Recap  \\n Final  \\n \\n \\n \\nGrading Scheme and Marks Distribution \\n \\nCategory  Marks% Description  \\nAttendance  5 No marks will be deducted for one absence. But for every \\nsubsequent absences 0.5 marks will be deducted. If a student'),\n",
       " Document(metadata={'creationdate': '2017-10-08T22:16:43+06:00', 'producer': 'Microsoft® Word 2016', 'page': 2, 'page_label': '3', 'moddate': '2017-10-08T22:16:43+06:00', 'source': '/home/zhbdripon/Documents/document-chat/data/CourseOutline.pdf', 'author': 'Monirul Hasan', 'title': 'SOUTHEAST UNIVERSITY', 'creator': 'Microsoft® Word 2016', 'total_pages': 4}, page_content='All of them will be counted. \\nMidterm  30 For mid  and final >> 5 points may be allotted for MCQ, 10/15 for \\nshort questions and 15/20 for broad questions. Exams will cover \\neverything from the class – lecture notes, textbooks, articles. Final 40 \\n  \\nTotal 100')]"
      ]
     },
     "execution_count": 19,
     "metadata": {},
     "output_type": "execute_result"
    }
   ],
   "source": [
    "similar_vector_embeds = vectordb.max_marginal_relevance_search(question, k=2, fetch_k=3)\n",
    "len(similar_vector_embeds)\n",
    "similar_vector_embeds"
   ]
  },
  {
   "cell_type": "code",
   "execution_count": 21,
   "id": "138077e0",
   "metadata": {},
   "outputs": [
    {
     "data": {
      "text/plain": [
       "'The course consists of weekly two 1.5-hour lectures covering various topics related to software and software engineering. The course outline includes a midterm and final exam, as well as assignments based on case studies and analysis. The total number of lectures in the course is not explicitly mentioned in the provided context.'"
      ]
     },
     "execution_count": 21,
     "metadata": {},
     "output_type": "execute_result"
    }
   ],
   "source": [
    "# Migrating from RetrievalQA (Depricated) the LCEL implementation\n",
    "# https://python.langchain.com/docs/versions/migrating_chains/retrieval_qa/\n",
    "from langchain import hub\n",
    "from langchain_core.output_parsers import StrOutputParser\n",
    "from langchain_core.runnables import RunnablePassthrough\n",
    "\n",
    "# See full prompt at https://smith.langchain.com/hub/rlm/rag-prompt\n",
    "prompt = hub.pull(\"rlm/rag-prompt\")\n",
    "\n",
    "\n",
    "def format_docs(docs):\n",
    "    return \"\\n\\n\".join(doc.page_content for doc in docs)\n",
    "\n",
    "\n",
    "qa_chain = (\n",
    "    {\n",
    "        \"context\": vectordb.as_retriever() | format_docs,\n",
    "        \"question\": RunnablePassthrough(),\n",
    "    }\n",
    "    | prompt\n",
    "    | llm\n",
    "    | StrOutputParser()\n",
    ")\n",
    "\n",
    "qa_chain.invoke(\"How many lecture in the course?\")"
   ]
  },
  {
   "cell_type": "code",
   "execution_count": null,
   "id": "1e1a22fa",
   "metadata": {},
   "outputs": [
    {
     "name": "stdout",
     "output_type": "stream",
     "text": [
      "{'1': InMemoryHistory(messages=[AIMessage(content='hello', additional_kwargs={}, response_metadata={})])}\n"
     ]
    }
   ],
   "source": [
    "from langchain_core.chat_history import BaseChatMessageHistory\n",
    "from langchain_core.messages import BaseMessage, AIMessage\n",
    "from pydantic import BaseModel, Field\n",
    "\n",
    "\n",
    "class InMemoryHistory(BaseChatMessageHistory, BaseModel):\n",
    "    \"\"\"In memory implementation of chat message history.\"\"\"\n",
    "\n",
    "    messages: list[BaseMessage] = Field(default_factory=list)\n",
    "\n",
    "    def add_messages(self, messages: list[BaseMessage]) -> None:\n",
    "        \"\"\"Add a list of messages to the store\"\"\"\n",
    "        self.messages.extend(messages)\n",
    "\n",
    "    def clear(self) -> None:\n",
    "        self.messages = []\n",
    "\n",
    "\n",
    "# Here we use a global variable to store the chat message history.\n",
    "# This will make it easier to inspect it to see the underlying results.\n",
    "store = {}\n",
    "\n",
    "\n",
    "def get_by_session_id(session_id: str) -> BaseChatMessageHistory:\n",
    "    if session_id not in store:\n",
    "        store[session_id] = InMemoryHistory()\n",
    "    return store[session_id]\n",
    "\n",
    "\n",
    "history = get_by_session_id(\"1\")\n",
    "history.add_message(AIMessage(content=\"hello\"))\n",
    "print(store)  # noqa: T201"
   ]
  },
  {
   "cell_type": "code",
   "execution_count": null,
   "id": "69156f2a",
   "metadata": {},
   "outputs": [
    {
     "name": "stdout",
     "output_type": "stream",
     "text": [
      "The faculty name is AKM Ahsanul Hoque. He holds the designation of Assistant Professor. His contact information includes email ahoque707@gmail.com and phone number 01713363703.\n",
      "{'1': InMemoryHistory(messages=[AIMessage(content='hello', additional_kwargs={}, response_metadata={})]), 'foo': InMemoryHistory(messages=[HumanMessage(content='Who is the course teacher?', additional_kwargs={}, response_metadata={}), AIMessage(content='The course teacher is an Assistant Professor. They can be contacted via email at ahoque707@gmail.com or by phone at 01713363703. Counseling is available by appointment during class hours on Sunday to Tuesday from 10:00 AM to 11:30 AM.', additional_kwargs={}, response_metadata={}), HumanMessage(content='Do we have more information about him?', additional_kwargs={}, response_metadata={}), AIMessage(content='Yes, we have his email address ahoque707@gmail.com and phone number 01713363703. He is available for counseling by appointment on Sundays to Tuesdays from 10:00 AM to 11:30 AM.', additional_kwargs={}, response_metadata={}), HumanMessage(content='Who is the course teacher?', additional_kwargs={}, response_metadata={}), AIMessage(content='The course teacher is an Assistant Professor. They can be contacted via email at ahoque707@gmail.com or phone at 01713363703. Counseling is available by appointment during class hours on Sunday to Tuesday from 10:00 AM to 11:30 AM.', additional_kwargs={}, response_metadata={}), HumanMessage(content='Do we have more information about him?', additional_kwargs={}, response_metadata={}), AIMessage(content='No, there is no additional information provided about him in the context.', additional_kwargs={}, response_metadata={}), HumanMessage(content='What is the course teacher name?', additional_kwargs={}, response_metadata={}), AIMessage(content=\"The course teacher's name is not provided in the given context.\", additional_kwargs={}, response_metadata={}), HumanMessage(content='Do we have more information about him?', additional_kwargs={}, response_metadata={}), AIMessage(content='Yes, we have his email address ahoque707@gmail.com and phone number 01713363703. He is available for counseling by appointment on Sundays to Tuesdays from 10:00 AM to 11:30 AM.', additional_kwargs={}, response_metadata={}), HumanMessage(content='What is the course teacher name?', additional_kwargs={}, response_metadata={}), AIMessage(content=\"The course teacher's name is not provided in the given context.\", additional_kwargs={}, response_metadata={}), HumanMessage(content='Do we have more information about him?', additional_kwargs={}, response_metadata={}), AIMessage(content='Yes, we have more information about him. AKM Ahsanul Hoque is an Assistant Professor in the area of Computer Science and Computer Science & Engineering. He can be reached via email at ahoque707@gmail.com or by phone at 01713363703.', additional_kwargs={}, response_metadata={}), HumanMessage(content='What is the course teacher name?', additional_kwargs={}, response_metadata={}), AIMessage(content=\"The course teacher's name is not provided in the given context.\", additional_kwargs={}, response_metadata={}), HumanMessage(content='Do we have more information about him?', additional_kwargs={}, response_metadata={}), AIMessage(content='We have more information about AKM Ahsanul Hoque, who is an Assistant Professor in Computer Science and Computer Science & Engineering. His counseling hours are on Sunday to Tuesday from 10:00 AM to 11:30 AM, and he can be contacted via email at ahoque707@gmail.com or phone at 01713363703.', additional_kwargs={}, response_metadata={}), HumanMessage(content='What is the faculty name?', additional_kwargs={}, response_metadata={}), AIMessage(content='The faculty name is AKM Ahsanul Hoque. He holds the designation of Assistant Professor. His contact information includes email ahoque707@gmail.com and phone number 01713363703.', additional_kwargs={}, response_metadata={})])}\n",
      "Yes, we have more information about him. AKM Ahsanul Hoque is an Assistant Professor in the area of Computer Science and Computer Science & Engineering. He can be reached at ahoque707@gmail.com or 01713363703 for counseling by appointment during Sunday to Tuesday from 10:00 AM to 11:30 AM.\n",
      "{'1': InMemoryHistory(messages=[AIMessage(content='hello', additional_kwargs={}, response_metadata={})]), 'foo': InMemoryHistory(messages=[HumanMessage(content='Who is the course teacher?', additional_kwargs={}, response_metadata={}), AIMessage(content='The course teacher is an Assistant Professor. They can be contacted via email at ahoque707@gmail.com or by phone at 01713363703. Counseling is available by appointment during class hours on Sunday to Tuesday from 10:00 AM to 11:30 AM.', additional_kwargs={}, response_metadata={}), HumanMessage(content='Do we have more information about him?', additional_kwargs={}, response_metadata={}), AIMessage(content='Yes, we have his email address ahoque707@gmail.com and phone number 01713363703. He is available for counseling by appointment on Sundays to Tuesdays from 10:00 AM to 11:30 AM.', additional_kwargs={}, response_metadata={}), HumanMessage(content='Who is the course teacher?', additional_kwargs={}, response_metadata={}), AIMessage(content='The course teacher is an Assistant Professor. They can be contacted via email at ahoque707@gmail.com or phone at 01713363703. Counseling is available by appointment during class hours on Sunday to Tuesday from 10:00 AM to 11:30 AM.', additional_kwargs={}, response_metadata={}), HumanMessage(content='Do we have more information about him?', additional_kwargs={}, response_metadata={}), AIMessage(content='No, there is no additional information provided about him in the context.', additional_kwargs={}, response_metadata={}), HumanMessage(content='What is the course teacher name?', additional_kwargs={}, response_metadata={}), AIMessage(content=\"The course teacher's name is not provided in the given context.\", additional_kwargs={}, response_metadata={}), HumanMessage(content='Do we have more information about him?', additional_kwargs={}, response_metadata={}), AIMessage(content='Yes, we have his email address ahoque707@gmail.com and phone number 01713363703. He is available for counseling by appointment on Sundays to Tuesdays from 10:00 AM to 11:30 AM.', additional_kwargs={}, response_metadata={}), HumanMessage(content='What is the course teacher name?', additional_kwargs={}, response_metadata={}), AIMessage(content=\"The course teacher's name is not provided in the given context.\", additional_kwargs={}, response_metadata={}), HumanMessage(content='Do we have more information about him?', additional_kwargs={}, response_metadata={}), AIMessage(content='Yes, we have more information about him. AKM Ahsanul Hoque is an Assistant Professor in the area of Computer Science and Computer Science & Engineering. He can be reached via email at ahoque707@gmail.com or by phone at 01713363703.', additional_kwargs={}, response_metadata={}), HumanMessage(content='What is the course teacher name?', additional_kwargs={}, response_metadata={}), AIMessage(content=\"The course teacher's name is not provided in the given context.\", additional_kwargs={}, response_metadata={}), HumanMessage(content='Do we have more information about him?', additional_kwargs={}, response_metadata={}), AIMessage(content='We have more information about AKM Ahsanul Hoque, who is an Assistant Professor in Computer Science and Computer Science & Engineering. His counseling hours are on Sunday to Tuesday from 10:00 AM to 11:30 AM, and he can be contacted via email at ahoque707@gmail.com or phone at 01713363703.', additional_kwargs={}, response_metadata={}), HumanMessage(content='What is the faculty name?', additional_kwargs={}, response_metadata={}), AIMessage(content='The faculty name is AKM Ahsanul Hoque. He holds the designation of Assistant Professor. His contact information includes email ahoque707@gmail.com and phone number 01713363703.', additional_kwargs={}, response_metadata={}), HumanMessage(content='Do we have more information about him?', additional_kwargs={}, response_metadata={}), AIMessage(content='Yes, we have more information about him. AKM Ahsanul Hoque is an Assistant Professor in the area of Computer Science and Computer Science & Engineering. He can be reached at ahoque707@gmail.com or 01713363703 for counseling by appointment during Sunday to Tuesday from 10:00 AM to 11:30 AM.', additional_kwargs={}, response_metadata={})])}\n"
     ]
    }
   ],
   "source": [
    "from langchain_core.runnables.history import RunnableWithMessageHistory\n",
    "from langchain_core.runnables import RunnableLambda\n",
    "\n",
    "# See full prompt at https://smith.langchain.com/hub/rlm/rag-prompt\n",
    "prompt = hub.pull(\"rlm/rag-prompt\")\n",
    "\n",
    "\n",
    "def format_docs(docs):\n",
    "    return \"\\n\\n\".join(doc.page_content for doc in docs)\n",
    "\n",
    "\n",
    "question_input = RunnableLambda(lambda d: d[\"question\"])\n",
    "\n",
    "\n",
    "chain = (\n",
    "    {\n",
    "        \"context\": question_input\n",
    "        | vectordb.as_retriever(search_type=\"similarity\", search_kwargs={\"k\": 4})\n",
    "        | format_docs,\n",
    "        \"question\": question_input,\n",
    "    }\n",
    "    | prompt\n",
    "    | llm\n",
    "    | StrOutputParser()\n",
    ")\n",
    "\n",
    "\n",
    "chain_with_history = RunnableWithMessageHistory(\n",
    "    chain,\n",
    "    # Uses the get_by_session_id function defined in the example\n",
    "    # above.\n",
    "    get_by_session_id,\n",
    "    input_messages_key=\"question\",\n",
    "    history_messages_key=\"history\",\n",
    ")\n",
    "\n",
    "print(\n",
    "    chain_with_history.invoke(  # noqa: T201\n",
    "        {\"question\": \"What is the faculty name?\"},\n",
    "        config={\"configurable\": {\"session_id\": \"foo\"}},\n",
    "    )\n",
    ")\n",
    "\n",
    "# Uses the store defined in the example above.\n",
    "print(store)  # noqa: T201\n",
    "\n",
    "print(\n",
    "    chain_with_history.invoke(  # noqa: T201\n",
    "        {\"question\": \"Do we have more information about him?\"},\n",
    "        config={\"configurable\": {\"session_id\": \"foo\"}},\n",
    "    )\n",
    ")\n",
    "\n",
    "print(store)  # noqa: T201"
   ]
  },
  {
   "cell_type": "code",
   "execution_count": 45,
   "id": "0931c5b8",
   "metadata": {},
   "outputs": [
    {
     "name": "stdout",
     "output_type": "stream",
     "text": [
      "AKMAH \n",
      " \n",
      "Faculty Name \n",
      " \n",
      "AKM Ahsanul Hoque \n",
      " \n",
      "Designation Asst. Professor   \n",
      "Email & Phone \n",
      " \n",
      "ahoque707@gmail.com \n",
      "01713363703  \n",
      " \n",
      " \n",
      "Room # \n",
      " \n",
      " \n",
      " \n",
      "Counseling by appointment \n",
      " \n",
      "Class/ \n",
      "Counseling \n",
      "Hours \n",
      " \n",
      "Sunday ­ Tuesday \n",
      "10:00 AM to 11:30 AM  \n",
      " \n",
      "Course Objectives \n",
      " \n",
      "This is an interesting, challenging, advance, and higher level course in the area of Computer Science \n",
      "and Computer Science & Engineering.  This course will give an idea to the graduating student about t he \n",
      "way of develop or engineer, software or system.  In this particular course student has to use his/her all\n",
      "AKMAH \n",
      " \n",
      "Faculty Name \n",
      " \n",
      "AKM Ahsanul Hoque \n",
      " \n",
      "Designation Asst. Professor   \n",
      "Email & Phone \n",
      " \n",
      "ahoque707@gmail.com \n",
      "01713363703  \n",
      " \n",
      " \n",
      "Room # \n",
      " \n",
      " \n",
      " \n",
      "Counseling by appointment \n",
      " \n",
      "Class/ \n",
      "Counseling \n",
      "Hours \n",
      " \n",
      "Sunday ­ Tuesday \n",
      "10:00 AM to 11:30 AM  \n",
      " \n",
      "Course Objectives \n",
      " \n",
      "This is an interesting, challenging, advance, and higher level course in the area of Computer Science \n",
      "and Computer Science & Engineering.  This course will give an idea to the graduating student about t he \n",
      "way of develop or engineer, software or system.  In this particular course student has to use his/her all\n",
      "Designation Asst. Professor   \n",
      "Email & Phone \n",
      " \n",
      "ahoque707@gmail.com \n",
      "01713363703  \n",
      " \n",
      " \n",
      "Room # \n",
      " \n",
      " \n",
      " \n",
      "Counseling by appointment \n",
      " \n",
      "Class/ \n",
      "Counseling \n",
      "Hours \n",
      " \n",
      "Sunday ­ Tuesday \n",
      "10:00 AM to 11:30 AM  \n",
      " \n",
      "Course Objectives\n",
      "Designation Asst. Professor   \n",
      "Email & Phone \n",
      " \n",
      "ahoque707@gmail.com \n",
      "01713363703  \n",
      " \n",
      " \n",
      "Room # \n",
      " \n",
      " \n",
      " \n",
      "Counseling by appointment \n",
      " \n",
      "Class/ \n",
      "Counseling \n",
      "Hours \n",
      " \n",
      "Sunday ­ Tuesday \n",
      "10:00 AM to 11:30 AM  \n",
      " \n",
      "Course Objectives\n"
     ]
    }
   ],
   "source": [
    "docs = vectordb.as_retriever(search_type=\"similarity\", search_kwargs={\"k\": 4}).invoke(\n",
    "    \"What is the faculty name?\"\n",
    ")\n",
    "\n",
    "for doc in docs:\n",
    "    print(doc.page_content)"
   ]
  },
  {
   "cell_type": "code",
   "execution_count": null,
   "id": "01b97a44",
   "metadata": {},
   "outputs": [],
   "source": []
  }
 ],
 "metadata": {
  "kernelspec": {
   "display_name": "document-chat-OKUWCCGi",
   "language": "python",
   "name": "python3"
  },
  "language_info": {
   "codemirror_mode": {
    "name": "ipython",
    "version": 3
   },
   "file_extension": ".py",
   "mimetype": "text/x-python",
   "name": "python",
   "nbconvert_exporter": "python",
   "pygments_lexer": "ipython3",
   "version": "3.12.3"
  }
 },
 "nbformat": 4,
 "nbformat_minor": 5
}
