{
 "cells": [
  {
   "cell_type": "code",
   "execution_count": 159,
   "id": "838ab78b",
   "metadata": {},
   "outputs": [],
   "source": [
    "from dotenv import load_dotenv\n",
    "from pathlib import Path\n",
    "from langchain.callbacks.manager import tracing_v2_enabled\n",
    "\n",
    "load_dotenv(override=True)\n",
    "base_dir = Path().resolve().parent"
   ]
  },
  {
   "cell_type": "code",
   "execution_count": 160,
   "id": "63c6ba14",
   "metadata": {},
   "outputs": [],
   "source": [
    "from langchain_openai import ChatOpenAI\n",
    "\n",
    "llm_model = \"gpt-3.5-turbo\"\n",
    "llm = ChatOpenAI(temperature=0, model=llm_model)"
   ]
  },
  {
   "cell_type": "code",
   "execution_count": 217,
   "id": "52e6384e",
   "metadata": {},
   "outputs": [],
   "source": [
    "from langchain.text_splitter import (\n",
    "    RecursiveCharacterTextSplitter,\n",
    "    CharacterTextSplitter,\n",
    ")\n",
    "\n",
    "chunk_size = 1000\n",
    "chunk_overlap = 150\n",
    "\n",
    "r_splitter = RecursiveCharacterTextSplitter(\n",
    "    chunk_size=chunk_size, chunk_overlap=chunk_overlap\n",
    ")\n",
    "c_splitter = CharacterTextSplitter(\n",
    "    chunk_size=chunk_size, chunk_overlap=chunk_overlap, separator=\"\\n\"\n",
    ")"
   ]
  },
  {
   "cell_type": "code",
   "execution_count": 258,
   "id": "8a4a525c",
   "metadata": {},
   "outputs": [
    {
     "data": {
      "text/plain": [
       "4"
      ]
     },
     "execution_count": 258,
     "metadata": {},
     "output_type": "execute_result"
    }
   ],
   "source": [
    "from langchain_community.document_loaders import PyPDFLoader\n",
    "\n",
    "loader = PyPDFLoader(f\"{base_dir}/data/CourseOutline.pdf\")\n",
    "pages = loader.load()\n",
    "len(pages)"
   ]
  },
  {
   "cell_type": "code",
   "execution_count": 259,
   "id": "6343e44e",
   "metadata": {},
   "outputs": [
    {
     "data": {
      "text/plain": [
       "9"
      ]
     },
     "execution_count": 259,
     "metadata": {},
     "output_type": "execute_result"
    }
   ],
   "source": [
    "spitted_docs = c_splitter.split_documents(pages)\n",
    "len(spitted_docs)"
   ]
  },
  {
   "cell_type": "code",
   "execution_count": 260,
   "id": "031de503",
   "metadata": {},
   "outputs": [
    {
     "data": {
      "text/plain": [
       "'/home/zhbdripon/Documents/document-chat/persist_vectorstore'"
      ]
     },
     "execution_count": 260,
     "metadata": {},
     "output_type": "execute_result"
    }
   ],
   "source": [
    "persist_directory_name = \"persist_vectorstore\"\n",
    "persist_directory = Path.joinpath(base_dir, persist_directory_name)\n",
    "persist_directory_str = persist_directory.as_posix()\n",
    "persist_directory_str"
   ]
  },
  {
   "cell_type": "code",
   "execution_count": 234,
   "id": "0241ad20",
   "metadata": {},
   "outputs": [],
   "source": [
    "!rm -rf ../peripersist_vectorstore"
   ]
  },
  {
   "cell_type": "code",
   "execution_count": 235,
   "id": "5a41f879",
   "metadata": {},
   "outputs": [],
   "source": [
    "from langchain.vectorstores import Chroma\n",
    "from langchain_openai import OpenAIEmbeddings\n",
    "\n",
    "embedding = OpenAIEmbeddings()\n",
    "\n",
    "vectordb = Chroma.from_documents(\n",
    "    documents=spitted_docs, embedding=embedding, persist_directory=persist_directory_str\n",
    ")"
   ]
  },
  {
   "cell_type": "code",
   "execution_count": 236,
   "id": "7832904e",
   "metadata": {},
   "outputs": [],
   "source": [
    "from langchain.vectorstores import Chroma\n",
    "from langchain_openai import OpenAIEmbeddings\n",
    "\n",
    "embedding = OpenAIEmbeddings()\n",
    "\n",
    "# Reusing the persistant\n",
    "vectordb = Chroma(embedding_function=embedding, persist_directory=persist_directory_str)"
   ]
  },
  {
   "cell_type": "code",
   "execution_count": 261,
   "id": "3b04728e",
   "metadata": {},
   "outputs": [],
   "source": [
    "question = \"How many topics in the course?\""
   ]
  },
  {
   "cell_type": "code",
   "execution_count": 262,
   "id": "b0b737cb",
   "metadata": {},
   "outputs": [
    {
     "data": {
      "text/plain": [
       "[Document(metadata={'source': '/home/zhbdripon/Documents/document-chat/data/CourseOutline.pdf', 'author': 'Monirul Hasan', 'title': 'SOUTHEAST UNIVERSITY', 'creator': 'Microsoft® Word 2016', 'page': 2, 'moddate': '2017-10-08T22:16:43+06:00', 'page_label': '3', 'creationdate': '2017-10-08T22:16:43+06:00', 'total_pages': 4, 'producer': 'Microsoft® Word 2016'}, page_content='13-15  Requirements, Design Concepts 6,7,8 \\n MIDTERM   \\n16-17 Design Concepts continue  9,11,12 \\n18-19 Part 3 (Quality Concepts) Quality Concepts, SQA, Testing 14,16,17,18 \\n20-21 Product Metrics 23 \\n   \\n22-23 Part 4 (Managing Software Projects) 24-28 \\n24-25 Project Estimation, Project Scheduling, Risk Mgt 26,27,28 \\n26-27 Recap   \\n28 Recap  \\n Final  \\n \\n \\n \\nGrading Scheme and Marks Distribution \\n \\nCategory  Marks% Description  \\nAttendance  5 No marks will be deducted for one absence. But for every \\nsubsequent absences 0.5 marks will be deducted. If a student'),\n",
       " Document(metadata={'total_pages': 4, 'page_label': '3', 'creator': 'Microsoft® Word 2016', 'source': '/home/zhbdripon/Documents/document-chat/data/CourseOutline.pdf', 'title': 'SOUTHEAST UNIVERSITY', 'moddate': '2017-10-08T22:16:43+06:00', 'page': 2, 'creationdate': '2017-10-08T22:16:43+06:00', 'producer': 'Microsoft® Word 2016', 'author': 'Monirul Hasan'}, page_content='All of them will be counted. \\nMidterm  30 For mid  and final >> 5 points may be allotted for MCQ, 10/15 for \\nshort questions and 15/20 for broad questions. Exams will cover \\neverything from the class – lecture notes, textbooks, articles. Final 40 \\n  \\nTotal 100')]"
      ]
     },
     "execution_count": 262,
     "metadata": {},
     "output_type": "execute_result"
    }
   ],
   "source": [
    "similar_vector_embeds = vectordb.max_marginal_relevance_search(question, k=2, fetch_k=3)\n",
    "len(similar_vector_embeds)\n",
    "similar_vector_embeds"
   ]
  },
  {
   "cell_type": "code",
   "execution_count": 267,
   "id": "53fa53a6",
   "metadata": {},
   "outputs": [],
   "source": [
    "from langchain.memory import ConversationBufferMemory\n",
    "\n",
    "memory = ConversationBufferMemory(memory_key=\"chat_history\", return_messages=True)"
   ]
  },
  {
   "cell_type": "code",
   "execution_count": null,
   "id": "acb2825c",
   "metadata": {},
   "outputs": [],
   "source": [
    "from langchain.chains import RetrievalQA\n",
    "\n",
    "qa_chain = RetrievalQA.from_chain_type(llm, retriever=vectordb.as_retriever())"
   ]
  },
  {
   "cell_type": "code",
   "execution_count": 265,
   "id": "98d61366",
   "metadata": {},
   "outputs": [
    {
     "name": "stdout",
     "output_type": "stream",
     "text": [
      "There are a total of 28 topics in the course based on the provided context.\n"
     ]
    }
   ],
   "source": [
    "with tracing_v2_enabled(project_name=\"document_chat\"):\n",
    "    result = qa_chain({\"query\": question})\n",
    "    print(result[\"result\"])"
   ]
  },
  {
   "cell_type": "code",
   "execution_count": 266,
   "id": "da85df13",
   "metadata": {},
   "outputs": [
    {
     "name": "stdout",
     "output_type": "stream",
     "text": [
      "I'm sorry, I don't have enough information to determine what \"they\" are based on the context provided.\n"
     ]
    }
   ],
   "source": [
    "with tracing_v2_enabled(project_name=\"document_chat\"):\n",
    "    result = qa_chain({\"query\": \"What are they?\"})\n",
    "    print(result[\"result\"])"
   ]
  },
  {
   "cell_type": "code",
   "execution_count": 242,
   "id": "b26f0c1e",
   "metadata": {},
   "outputs": [],
   "source": [
    "from langchain.prompts import PromptTemplate\n",
    "\n",
    "template = \"\"\"Use following pieces of context to answer the question at the end. If you don't know the answer, just say that you don't know, don't try to make up the answer. Use three sentence maximum. keep the sentence as concise as possible. Always say thanks for asking at the end of the answer\n",
    "{context}\n",
    "Question: {question}\n",
    "Helpul Answer:\"\"\"\n",
    "QA_CHAIN_PROMPT = PromptTemplate.from_template(template)"
   ]
  },
  {
   "cell_type": "code",
   "execution_count": 243,
   "id": "80c17cc0",
   "metadata": {},
   "outputs": [],
   "source": [
    "qa_chain = RetrievalQA.from_chain_type(\n",
    "    llm,\n",
    "    retriever=vectordb.as_retriever(),\n",
    "    return_source_documents=True,\n",
    "    chain_type_kwargs={\"prompt\": QA_CHAIN_PROMPT},\n",
    ")"
   ]
  },
  {
   "cell_type": "code",
   "execution_count": 244,
   "id": "e503dfe9",
   "metadata": {},
   "outputs": [
    {
     "name": "stdout",
     "output_type": "stream",
     "text": [
      "The document explains different types of relationships in a database, such as one to many, one to one, and many to many. It also discusses the importance of entities and relationships in the entity relationship data model. Thanks for asking.\n"
     ]
    }
   ],
   "source": [
    "with tracing_v2_enabled(project_name=\"document_chat\"):\n",
    "    result = qa_chain({\"query\": question})\n",
    "    print(result[\"result\"])"
   ]
  },
  {
   "cell_type": "code",
   "execution_count": 176,
   "id": "544fd62a",
   "metadata": {},
   "outputs": [
    {
     "data": {
      "text/plain": [
       "[Document(metadata={'title': 'SOUTHEAST UNIVERSITY', 'creator': 'Microsoft® Word 2016', 'page': 0, 'total_pages': 4, 'page_label': '1', 'author': 'Monirul Hasan', 'source': '/home/zhbdripon/Documents/document-chat/data/CourseOutline.pdf', 'producer': 'Microsoft® Word 2016', 'creationdate': '2017-10-08T22:16:43+06:00', 'moddate': '2017-10-08T22:16:43+06:00'}, page_content='Program: \\n \\nCSE \\n \\nCourse Code \\n \\nCSE3035 \\n \\nSection \\n \\n3 \\n \\nCourse Title \\n \\nInformation System Design & \\nSoftware Engineering \\n \\nClass Room \\n \\nAR Tower –1201 \\n \\nCourse Group \\n \\n \\nFaculty Code \\n \\nAKMAH \\n \\nFaculty Name \\n \\nAKM Ahsanul Hoque \\n \\nDesignation Asst. Professor   \\nEmail & Phone'),\n",
       " Document(metadata={'moddate': '2017-10-08T22:16:43+06:00', 'creator': 'Microsoft® Word 2016', 'author': 'Monirul Hasan', 'page_label': '1', 'title': 'SOUTHEAST UNIVERSITY', 'source': '/home/zhbdripon/Documents/document-chat/data/CourseOutline.pdf', 'page': 0, 'producer': 'Microsoft® Word 2016', 'total_pages': 4, 'creationdate': '2017-10-08T22:16:43+06:00'}, page_content='Program: \\n \\nCSE \\n \\nCourse Code \\n \\nCSE3035 \\n \\nSection \\n \\n3 \\n \\nCourse Title \\n \\nInformation System Design & \\nSoftware Engineering \\n \\nClass Room \\n \\nAR Tower –1201 \\n \\nCourse Group \\n \\n \\nFaculty Code \\n \\nAKMAH \\n \\nFaculty Name \\n \\nAKM Ahsanul Hoque \\n \\nDesignation Asst. Professor   \\nEmail & Phone'),\n",
       " Document(metadata={'page_label': '1', 'producer': 'Microsoft® Word 2016', 'total_pages': 4, 'creator': 'Microsoft® Word 2016', 'source': '/home/zhbdripon/Documents/document-chat/data/CourseOutline.pdf', 'page': 0, 'moddate': '2017-10-08T22:16:43+06:00', 'author': 'Monirul Hasan', 'creationdate': '2017-10-08T22:16:43+06:00', 'title': 'SOUTHEAST UNIVERSITY'}, page_content='Program: \\n \\nCSE \\n \\nCourse Code \\n \\nCSE3035 \\n \\nSection \\n \\n3 \\n \\nCourse Title \\n \\nInformation System Design & \\nSoftware Engineering \\n \\nClass Room \\n \\nAR Tower –1201 \\n \\nCourse Group \\n \\n \\nFaculty Code \\n \\nAKMAH \\n \\nFaculty Name \\n \\nAKM Ahsanul Hoque \\n \\nDesignation Asst. Professor   \\nEmail & Phone'),\n",
       " Document(metadata={'creationdate': '2017-10-08T22:16:43+06:00', 'moddate': '2017-10-08T22:16:43+06:00', 'author': 'Monirul Hasan', 'producer': 'Microsoft® Word 2016', 'title': 'SOUTHEAST UNIVERSITY', 'source': '/home/zhbdripon/Documents/document-chat/data/CourseOutline.pdf', 'page': 0, 'total_pages': 4, 'creator': 'Microsoft® Word 2016', 'page_label': '1'}, page_content='Program: \\n \\nCSE \\n \\nCourse Code \\n \\nCSE3035 \\n \\nSection \\n \\n3 \\n \\nCourse Title \\n \\nInformation System Design & \\nSoftware Engineering \\n \\nClass Room \\n \\nAR Tower –1201 \\n \\nCourse Group \\n \\n \\nFaculty Code \\n \\nAKMAH \\n \\nFaculty Name \\n \\nAKM Ahsanul Hoque \\n \\nDesignation Asst. Professor   \\nEmail & Phone')]"
      ]
     },
     "execution_count": 176,
     "metadata": {},
     "output_type": "execute_result"
    }
   ],
   "source": [
    "result[\"source_documents\"]"
   ]
  },
  {
   "cell_type": "code",
   "execution_count": 245,
   "id": "12d82284",
   "metadata": {},
   "outputs": [],
   "source": [
    "# demo map reduce\n",
    "qa_chain = RetrievalQA.from_chain_type(\n",
    "    llm, retriever=vectordb.as_retriever(), chain_type=\"map_reduce\"\n",
    ")"
   ]
  },
  {
   "cell_type": "code",
   "execution_count": 246,
   "id": "a8919977",
   "metadata": {},
   "outputs": [
    {
     "name": "stdout",
     "output_type": "stream",
     "text": [
      "The document explains different types of relationships in a relational database design, including one to many (1:M), one to one (1:1), and many to many (M:N) relationships. It also discusses how relationships are defined in the entity relationship (ER) data model as associations or interactions between entities. Furthermore, the document provides guidelines for explaining relationship rules and discusses the concept of cardinality for each relationship in a database schema.\n"
     ]
    }
   ],
   "source": [
    "with tracing_v2_enabled(project_name=\"document_chat\"):\n",
    "    result = qa_chain({\"query\": question})\n",
    "    print(result[\"result\"])"
   ]
  },
  {
   "cell_type": "code",
   "execution_count": 279,
   "id": "138077e0",
   "metadata": {},
   "outputs": [
    {
     "data": {
      "text/plain": [
       "'There are 28 lectures in the course. Each lecture covers different topics related to software engineering and information system design. The course also includes assignments and exams for assessment purposes.'"
      ]
     },
     "execution_count": 279,
     "metadata": {},
     "output_type": "execute_result"
    }
   ],
   "source": [
    "# Migrating from RetrievalQA (Depricated) the LCEL implementation\n",
    "# https://python.langchain.com/docs/versions/migrating_chains/retrieval_qa/\n",
    "from langchain import hub\n",
    "from langchain_core.output_parsers import StrOutputParser\n",
    "from langchain_core.runnables import RunnablePassthrough\n",
    "\n",
    "# See full prompt at https://smith.langchain.com/hub/rlm/rag-prompt\n",
    "prompt = hub.pull(\"rlm/rag-prompt\")\n",
    "\n",
    "\n",
    "def format_docs(docs):\n",
    "    return \"\\n\\n\".join(doc.page_content for doc in docs)\n",
    "\n",
    "\n",
    "qa_chain = (\n",
    "    {\n",
    "        \"context\": vectordb.as_retriever() | format_docs,\n",
    "        \"question\": RunnablePassthrough(),\n",
    "    }\n",
    "    | prompt\n",
    "    | llm\n",
    "    | StrOutputParser()\n",
    ")\n",
    "\n",
    "qa_chain.invoke(\"How many lecture in the course?\")"
   ]
  },
  {
   "cell_type": "code",
   "execution_count": null,
   "id": "2dfc4413",
   "metadata": {},
   "outputs": [
    {
     "data": {
      "text/plain": [
       "{'input': 'How many lecture in the course?',\n",
       " 'context': [Document(metadata={'producer': 'Prince 9.0 rev 5 (www.princexml.com)', 'creator': 'PyPDF', 'total_pages': 136, 'source': '/home/zhbdripon/Documents/document-chat/data/CS403-1.10-Database-Design-2nd-Edition-CCBY.pdf', 'page_label': '121', 'page': 120, 'title': 'Database Design - 2nd Edition', 'creationdate': ''}, page_content='is either a 15-point course or a 30-point course. A course may have a quota for the number of students enrolled in it\\nat any one presentation. A course need not have any students enrolled in it (such as a course that has just been written\\nand offered for study).\\nStudents are constrained in the number of courses they can be enrolled in at any one time. They may not take courses\\nsimultaneously if their combined points total exceeds 180 points.\\nFor assessment purposes, a 15-point course may have up to three assignments per presentation and a 30-point course\\nmay have up to five assignments per presentation. The grade for an assignment on any course is recorded as a mark out\\nof 100.\\nThe university database below is one possible data model that describes the above set of requirements. The model has\\nseveral parts, beginning with an ERD and followed by a written description of entity types, constraints, and assump-\\ntions.\\nDesign Process\\nSee Figure A.1.'),\n",
       "  Document(metadata={'creator': 'Microsoft® Word 2016', 'moddate': '2017-10-08T22:16:43+06:00', 'author': 'Monirul Hasan', 'page': 1, 'producer': 'Microsoft® Word 2016', 'creationdate': '2017-10-08T22:16:43+06:00', 'source': '/home/zhbdripon/Documents/document-chat/data/CourseOutline.pdf', 'page_label': '2', 'title': 'SOUTHEAST UNIVERSITY', 'total_pages': 4}, page_content='References: Other text book or Internet materials.  \\n \\nSoftware \\n \\n■ UML \\n■ Microsoft Project/MS Excel/MS WORD \\n■ Drawing Software  \\n \\n \\n \\nTeaching Methodology \\n \\nWeekly two 1.5 hours lecture where the theoretical aspects of formulation of different methods \\nwill be discussed. Sh a rin g re a l life e xp e rien ce in  th e  fie ld of IT an d \\nd e ve lo pm en t. We will also have hands on experience of re a l lif e  so f t wa re  \\np ro je c t. The assignments will require students to work on d i f f e r e n t  c a s e  s tu d y, \\na n d  a n a l ys i s.'),\n",
       "  Document(metadata={'total_pages': 4, 'source': '/home/zhbdripon/Documents/document-chat/data/CourseOutline.pdf', 'creator': 'Microsoft® Word 2016', 'producer': 'Microsoft® Word 2016', 'page_label': '3', 'creationdate': '2017-10-08T22:16:43+06:00', 'title': 'SOUTHEAST UNIVERSITY', 'moddate': '2017-10-08T22:16:43+06:00', 'page': 2, 'author': 'Monirul Hasan'}, page_content='Fall 2017 CSE 3035- Information System Design & Software Engineering Course Outline \\nPage 3 \\n \\n \\n \\n*Learn For Yourself * by: AKM Ahsanul Hoque  \\nTentative Course Plan \\n \\n \\nLecture # \\n \\nTopics will be covered Suggested reading \\n(textbook  chapters) \\n1 Introduction Software & Software Engineering  Chapter 1  \\n \\n2 \\n3 \\n2-3 Software Engineering  \\n4-7 Part 1: (The Software Process) Process Models \\n8-9  Principles that guide practices, Understanding Req. 4,5 \\n10-12 Part 2 (Modeling)  \\n13-15  Requirements, Design Concepts 6,7,8 \\n MIDTERM   \\n16-17 Design Concepts continue  9,11,12'),\n",
       "  Document(metadata={'creator': 'Microsoft® Word 2016', 'page': 2, 'creationdate': '2017-10-08T22:16:43+06:00', 'producer': 'Microsoft® Word 2016', 'total_pages': 4, 'source': '/home/zhbdripon/Documents/document-chat/data/CourseOutline.pdf', 'author': 'Monirul Hasan', 'title': 'SOUTHEAST UNIVERSITY', 'moddate': '2017-10-08T22:16:43+06:00', 'page_label': '3'}, page_content='Fall 2017 CSE 3035- Information System Design & Software Engineering Course Outline \\nPage 3 \\n \\n \\n \\n*Learn For Yourself * by: AKM Ahsanul Hoque  \\nTentative Course Plan \\n \\n \\nLecture # \\n \\nTopics will be covered Suggested reading \\n(textbook  chapters) \\n1 Introduction Software & Software Engineering  Chapter 1  \\n \\n2 \\n3 \\n2-3 Software Engineering  \\n4-7 Part 1: (The Software Process) Process Models \\n8-9  Principles that guide practices, Understanding Req. 4,5 \\n10-12 Part 2 (Modeling)  \\n13-15  Requirements, Design Concepts 6,7,8 \\n MIDTERM   \\n16-17 Design Concepts continue  9,11,12 \\n18-19 Part 3 (Quality Concepts) Quality Concepts, SQA, Testing 14,16,17,18 \\n20-21 Product Metrics 23 \\n   \\n22-23 Part 4 (Managing Software Projects) 24-28 \\n24-25 Project Estimation, Project Scheduling, Risk Mgt 26,27,28 \\n26-27 Recap   \\n28 Recap  \\n Final  \\n \\n \\n \\nGrading Scheme and Marks Distribution \\n \\nCategory  Marks% Description  \\nAttendance  5 No marks will be deducted for one absence. But for every')],\n",
       " 'answer': 'There are a total of 28 lectures in the course.'}"
      ]
     },
     "execution_count": 278,
     "metadata": {},
     "output_type": "execute_result"
    }
   ],
   "source": [
    "from langchain import hub\n",
    "from langchain.chains import create_retrieval_chain\n",
    "from langchain.chains.combine_documents import create_stuff_documents_chain\n",
    "\n",
    "# See full prompt at https://smith.langchain.com/hub/langchain-ai/retrieval-qa-chat\n",
    "retrieval_qa_chat_prompt = hub.pull(\"langchain-ai/retrieval-qa-chat\")\n",
    "\n",
    "combine_docs_chain = create_stuff_documents_chain(llm, retrieval_qa_chat_prompt)\n",
    "rag_chain = create_retrieval_chain(vectordb.as_retriever(), combine_docs_chain)\n",
    "\n",
    "rag_chain.invoke({\"input\": \"How many lecture in the course?\"})"
   ]
  },
  {
   "cell_type": "code",
   "execution_count": null,
   "id": "1e1a22fa",
   "metadata": {},
   "outputs": [],
   "source": [
    "# from operator import itemgetter\n",
    "\n",
    "from langchain_openai.chat_models import ChatOpenAI\n",
    "\n",
    "from langchain_core.chat_history import BaseChatMessageHistory\n",
    "\n",
    "# from langchain_core.documents import Document\n",
    "from langchain_core.messages import BaseMessage, AIMessage\n",
    "\n",
    "# from langchain_core.prompts import ChatPromptTemplate, MessagesPlaceholder\n",
    "from pydantic import BaseModel, Field\n",
    "# from langchain_core.runnables import (\n",
    "#     RunnableLambda,\n",
    "#     ConfigurableFieldSpec,\n",
    "#     RunnablePassthrough,\n",
    "# )\n",
    "# from langchain_core.runnables.history import RunnableWithMessageHistory\n",
    "\n",
    "\n",
    "class InMemoryHistory(BaseChatMessageHistory, BaseModel):\n",
    "    \"\"\"In memory implementation of chat message history.\"\"\"\n",
    "\n",
    "    messages: list[BaseMessage] = Field(default_factory=list)\n",
    "\n",
    "    def add_messages(self, messages: list[BaseMessage]) -> None:\n",
    "        \"\"\"Add a list of messages to the store\"\"\"\n",
    "        self.messages.extend(messages)\n",
    "\n",
    "    def clear(self) -> None:\n",
    "        self.messages = []\n",
    "\n",
    "\n",
    "# Here we use a global variable to store the chat message history.\n",
    "# This will make it easier to inspect it to see the underlying results.\n",
    "store = {}\n",
    "\n",
    "\n",
    "def get_by_session_id(session_id: str) -> BaseChatMessageHistory:\n",
    "    if session_id not in store:\n",
    "        store[session_id] = InMemoryHistory()\n",
    "    return store[session_id]\n",
    "\n",
    "\n",
    "history = get_by_session_id(\"1\")\n",
    "history.add_message(AIMessage(content=\"hello\"))\n",
    "print(store)  # noqa: T201"
   ]
  },
  {
   "cell_type": "code",
   "execution_count": null,
   "id": "69156f2a",
   "metadata": {},
   "outputs": [],
   "source": []
  }
 ],
 "metadata": {
  "kernelspec": {
   "display_name": "document-chat-OKUWCCGi",
   "language": "python",
   "name": "python3"
  },
  "language_info": {
   "codemirror_mode": {
    "name": "ipython",
    "version": 3
   },
   "file_extension": ".py",
   "mimetype": "text/x-python",
   "name": "python",
   "nbconvert_exporter": "python",
   "pygments_lexer": "ipython3",
   "version": "3.12.3"
  }
 },
 "nbformat": 4,
 "nbformat_minor": 5
}
